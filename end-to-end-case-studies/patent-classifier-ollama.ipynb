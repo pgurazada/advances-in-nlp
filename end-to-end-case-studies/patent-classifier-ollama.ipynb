{
 "cells": [
  {
   "cell_type": "code",
   "execution_count": 1,
   "metadata": {},
   "outputs": [],
   "source": [
    "import numpy as np\n",
    "\n",
    "from openai import OpenAI\n",
    "\n",
    "from datasets import load_dataset"
   ]
  },
  {
   "cell_type": "code",
   "execution_count": 2,
   "metadata": {},
   "outputs": [],
   "source": [
    "client = OpenAI(\n",
    "    base_url = 'http://localhost:11434/v1',\n",
    "    api_key='ollama', # required, but unused\n",
    ")"
   ]
  },
  {
   "cell_type": "code",
   "execution_count": 3,
   "metadata": {},
   "outputs": [],
   "source": [
    "ds = load_dataset(\"ccdv/patent-classification\", \"abstract\")"
   ]
  },
  {
   "cell_type": "code",
   "execution_count": 4,
   "metadata": {},
   "outputs": [],
   "source": [
    "train_data = ds['train']"
   ]
  },
  {
   "cell_type": "code",
   "execution_count": 5,
   "metadata": {},
   "outputs": [],
   "source": [
    "test_data = ds['test']"
   ]
  },
  {
   "cell_type": "code",
   "execution_count": 6,
   "metadata": {},
   "outputs": [],
   "source": [
    "system_message = \"\"\"\n",
    "You are an expert patent attorney tasked to classify patent abstracts into a fixed set of categories.\n",
    "Each abstract can belong to only ONE of the following categories:\n",
    "0: \"Human Necessities\", \n",
    "1: \"Performing Operations; Transporting\",\n",
    "2: \"Chemistry; Metallurgy\",\n",
    "3: \"Textiles; Paper\",\n",
    "4: \"Fixed Constructions\",\n",
    "5: \"Mechanical Engineering; Lightning; Heating; Weapons; Blasting\",\n",
    "6: \"Physics\",\n",
    "7: \"Electricity\",\n",
    "8: \"General tagging of new or cross-sectional technology\"\n",
    "\n",
    "A detailed description of each category is presented below.\n",
    "\n",
    "Human Necessities: This category pertains to inventions that are related to fulfilling basic human needs. It includes patents for medical devices, pharmaceutical compositions, personal care products, food and beverages, clothing, and other inventions that directly impact human health, well-being, and daily living.\n",
    "Physics: This category encompasses inventions that are related to the study of matter and energy. It includes patents for devices or processes that involve principles of mechanics, optics, acoustics, thermodynamics, quantum mechanics, and other areas of physics. Examples of patents in this category may include inventions related to lasers, semiconductors, optics, nuclear technology, and quantum computing.\n",
    "Electricity: This category includes inventions that are related to the generation, transmission, distribution, and utilization of electrical energy. It covers patents for electrical circuits, power systems, electrical machinery and apparatus, electric vehicles, renewable energy technologies, and other electrical inventions.\n",
    "General tagging of new or cross-sectional technology: This category is a catch-all for inventions that do not fit into any specific category but are related to new or emerging technologies. It includes patents for innovative technologies that may not have a specific field or application yet, but have the potential to disrupt various industries. Examples may include patents related to artificial intelligence, blockchain, virtual reality, augmented reality, and other cutting-edge technologies.\n",
    "Performing Operations; Transporting: This category covers inventions related to processes, methods, and devices used in performing various operations or transporting goods, people, or information. It includes patents for manufacturing processes, industrial machinery, transportation vehicles, logistics systems, communication systems, and other inventions related to performing operations and transporting goods or information.\n",
    "Chemistry; Metallurgy: This category includes inventions related to chemical processes, compositions, and materials. It covers patents for chemical reactions, pharmaceutical compositions, chemical catalysts, polymers, materials science, metallurgy, and other inventions related to the field of chemistry.\n",
    "Mechanical Engineering; Lightning; Heating; Weapons; Blasting: This category encompasses inventions related to mechanical engineering, lightning protection, heating systems, weapons, and blasting technologies. It includes patents for machines, mechanical devices, heating systems, firearms, explosives, and other inventions related to mechanical engineering and related fields.\n",
    "Fixed Constructions: This category includes inventions related to the construction industry and built infrastructure. It covers patents for building materials, construction methods, architectural designs, civil engineering projects, and other inventions related to fixed constructions such as buildings, bridges, roads, dams, and other infrastructure projects.\n",
    "\n",
    "User input will contain a patent abstract.\n",
    "Classify this abstract to only ONE of the above mentioned categories.\n",
    "While you assign a category think through carefully and look for a clear conceptual match between the abstract and the label.\n",
    "Your answer should contain only the numeric label for the category as described above.\n",
    "Do NOT output anything else except the label.\n",
    "\"\"\""
   ]
  },
  {
   "cell_type": "code",
   "execution_count": 7,
   "metadata": {},
   "outputs": [],
   "source": [
    "few_shot_prompt = [{'role':'system', 'content': system_message}]"
   ]
  },
  {
   "cell_type": "code",
   "execution_count": 8,
   "metadata": {},
   "outputs": [],
   "source": [
    "for index, row in train_data.to_pandas().groupby('label').sample(1).sample(9).iterrows():\n",
    "    example_abstract = row.iloc[0]\n",
    "    example_label = row.iloc[1]\n",
    "\n",
    "    few_shot_prompt.append(\n",
    "        {\n",
    "            'role': 'user',\n",
    "            'content': example_abstract\n",
    "        }\n",
    "    )\n",
    "\n",
    "    few_shot_prompt.append(\n",
    "        {\n",
    "            'role': 'assistant',\n",
    "            'content': str(example_label)\n",
    "        }\n",
    "    )"
   ]
  },
  {
   "cell_type": "code",
   "execution_count": 13,
   "metadata": {},
   "outputs": [],
   "source": [
    "predictions, ground_truths = [], []"
   ]
  },
  {
   "cell_type": "code",
   "execution_count": 14,
   "metadata": {},
   "outputs": [
    {
     "name": "stdout",
     "output_type": "stream",
     "text": [
      "invalid literal for int() with base 10: 'This text'\n"
     ]
    }
   ],
   "source": [
    "for index, row in test_data.to_pandas().sample(500).iterrows():\n",
    "    gold_abstract = row.iloc[0]\n",
    "    gold_label = row.iloc[1]\n",
    "\n",
    "    user_input = [{'role':'user', 'content': gold_abstract}]\n",
    "\n",
    "    try:\n",
    "        response = client.chat.completions.create(\n",
    "            model=\"llama3.1\",\n",
    "            messages=few_shot_prompt + user_input,\n",
    "            temperature=0.2,\n",
    "            max_tokens=2,\n",
    "            top_p=0.95\n",
    "        )\n",
    "        \n",
    "        prediction = int(response.choices[0].message.content)\n",
    "\n",
    "        predictions.append(prediction)\n",
    "        ground_truths.append(gold_label)\n",
    "    except Exception as e:\n",
    "        print(e) # Log error and continue\n",
    "        continue"
   ]
  },
  {
   "cell_type": "code",
   "execution_count": 15,
   "metadata": {},
   "outputs": [
    {
     "data": {
      "text/plain": [
       "0.3486973947895792"
      ]
     },
     "execution_count": 15,
     "metadata": {},
     "output_type": "execute_result"
    }
   ],
   "source": [
    "(np.array(predictions) == np.array(ground_truths)).mean()"
   ]
  }
 ],
 "metadata": {
  "kernelspec": {
   "display_name": "Python 3 (ipykernel)",
   "language": "python",
   "name": "python3"
  },
  "language_info": {
   "codemirror_mode": {
    "name": "ipython",
    "version": 3
   },
   "file_extension": ".py",
   "mimetype": "text/x-python",
   "name": "python",
   "nbconvert_exporter": "python",
   "pygments_lexer": "ipython3",
   "version": "3.11.7"
  }
 },
 "nbformat": 4,
 "nbformat_minor": 2
}
